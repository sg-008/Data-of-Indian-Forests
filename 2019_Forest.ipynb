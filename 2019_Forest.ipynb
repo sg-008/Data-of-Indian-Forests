{
  "nbformat": 4,
  "nbformat_minor": 0,
  "metadata": {
    "colab": {
      "name": "2019_Forest.ipynb",
      "provenance": [],
      "collapsed_sections": []
    },
    "kernelspec": {
      "name": "python3",
      "display_name": "Python 3"
    },
    "language_info": {
      "name": "python"
    }
  },
  "cells": [
    {
      "cell_type": "code",
      "metadata": {
        "colab": {
          "base_uri": "https://localhost:8080/"
        },
        "id": "UXS6U8kfbvtK",
        "outputId": "ff34fcde-464e-4dcb-a88b-73068d2016e7"
      },
      "source": [
        "pip install tabula-py"
      ],
      "execution_count": 1,
      "outputs": [
        {
          "output_type": "stream",
          "name": "stdout",
          "text": [
            "Collecting tabula-py\n",
            "  Downloading tabula_py-2.3.0-py3-none-any.whl (12.0 MB)\n",
            "\u001b[K     |████████████████████████████████| 12.0 MB 92 kB/s \n",
            "\u001b[?25hRequirement already satisfied: pandas>=0.25.3 in /usr/local/lib/python3.7/dist-packages (from tabula-py) (1.1.5)\n",
            "Collecting distro\n",
            "  Downloading distro-1.6.0-py2.py3-none-any.whl (19 kB)\n",
            "Requirement already satisfied: numpy in /usr/local/lib/python3.7/dist-packages (from tabula-py) (1.19.5)\n",
            "Requirement already satisfied: python-dateutil>=2.7.3 in /usr/local/lib/python3.7/dist-packages (from pandas>=0.25.3->tabula-py) (2.8.2)\n",
            "Requirement already satisfied: pytz>=2017.2 in /usr/local/lib/python3.7/dist-packages (from pandas>=0.25.3->tabula-py) (2018.9)\n",
            "Requirement already satisfied: six>=1.5 in /usr/local/lib/python3.7/dist-packages (from python-dateutil>=2.7.3->pandas>=0.25.3->tabula-py) (1.15.0)\n",
            "Installing collected packages: distro, tabula-py\n",
            "Successfully installed distro-1.6.0 tabula-py-2.3.0\n"
          ]
        }
      ]
    },
    {
      "cell_type": "code",
      "metadata": {
        "id": "qunrxIbMbxlr"
      },
      "source": [
        "import tabula"
      ],
      "execution_count": 2,
      "outputs": []
    },
    {
      "cell_type": "code",
      "metadata": {
        "id": "1WRjvVVlb9yb"
      },
      "source": [
        "import pandas as pd"
      ],
      "execution_count": 4,
      "outputs": []
    },
    {
      "cell_type": "code",
      "metadata": {
        "id": "u8PeUpLmcwPJ"
      },
      "source": [
        "from tabula import read_pdf"
      ],
      "execution_count": 6,
      "outputs": []
    },
    {
      "cell_type": "markdown",
      "metadata": {
        "id": "_sn6sXQCrmuJ"
      },
      "source": [
        "## State Wise Forest Cover in 2019 \n",
        "\n",
        "\n",
        "*   According to Forest Survey of India Report\n",
        "\n",
        "\n",
        "\n"
      ]
    },
    {
      "cell_type": "code",
      "metadata": {
        "id": "I-2ORaR6cV6_"
      },
      "source": [
        "# Read pdf into a list of DataFrame\n",
        "df = read_pdf(\"http://www.indiaenvironmentportal.org.in/files/file/isfr-fsi-vol1.pdf\", pages='59')"
      ],
      "execution_count": 7,
      "outputs": []
    },
    {
      "cell_type": "code",
      "metadata": {
        "colab": {
          "base_uri": "https://localhost:8080/"
        },
        "id": "DauosvascaN-",
        "outputId": "b00fe75b-b709-410f-9dbf-61b0547d4e9d"
      },
      "source": [
        "df"
      ],
      "execution_count": 8,
      "outputs": [
        {
          "output_type": "execute_result",
          "data": {
            "text/plain": [
              "[       S.              State/UT       Geo.  ...     Change Change.1   Scrub\n",
              " 0     No.                   NaN  Area (GA)  ...  in forest        %     NaN\n",
              " 1     NaN                   NaN        NaN  ...      cover    w.r.t     NaN\n",
              " 2     NaN                   NaN        NaN  ...      w.r.t     ISFR     NaN\n",
              " 3     NaN                   NaN        NaN  ...       ISFR     2017     NaN\n",
              " 4     NaN                   NaN        NaN  ...       2017      NaN     NaN\n",
              " 5      1.        Andhra Pradesh   1,62,968  ...        990     3.52   8,255\n",
              " 6      2.     Arunachal Pradesh     83,743  ...       -276    -0.41     229\n",
              " 7      3.                 Assam     78,438  ...        222     0.79     173\n",
              " 8      4.                 Bihar     94,163  ...          7     0.10     250\n",
              " 9      5.          Chhattisgarh   1,35,192  ...         64     0.12     610\n",
              " 10     6.                 Delhi      1,483  ...       3.03     1.57    0.30\n",
              " 11     7.                   Goa      3,702  ...          8     0.36       0\n",
              " 12     8.               Gujarat   1,96,244  ...        100     0.68   2,994\n",
              " 13     9.               Haryana     44,212  ...         14     0.88     154\n",
              " 14    10.     Himachal  Pradesh     55,673  ...        334     2.21     315\n",
              " 15    11.             UT of J&K    53,258*  ...        348     1.68     250\n",
              " 16    NaN         Jammu & UT of  1,69,421*  ...         23     0.93     298\n",
              " 17    NaN      Kashmir # Ladakh        NaN  ...        NaN      NaN     NaN\n",
              " 18    NaN                 Total   2,22,236  ...        371     1.60     548\n",
              " 19    12.             Jharkhand     79,716  ...         58     0.25     688\n",
              " 20    13.             Karnataka   1,91,791  ...      1,025     2.73   4,484\n",
              " 21    14.                Kerala     38,852  ...        823     4.05      13\n",
              " 22    15.        Madhya Pradesh   3,08,252  ...         68     0.09   6,002\n",
              " 23    16.           Maharashtra   3,07,713  ...         96     0.19   4,256\n",
              " 24    17.               Manipur     22,327  ...       -499    -2.88   1,181\n",
              " 25    18.             Meghalaya     22,429  ...        -27    -0.16     600\n",
              " 26    19.               Mizoram     21,081  ...       -180    -0.99       1\n",
              " 27    20.              Nagaland     16,579  ...         -3    -0.02     635\n",
              " 28    21.                Odisha   1,55,707  ...        274     0.53   4,327\n",
              " 29    22.                Punjab     50,362  ...         12     0.65      33\n",
              " 30    23.             Rajasthan   3,42,239  ...         58     0.35   4,760\n",
              " 31    24.                Sikkim      7,096  ...         -2    -0.06     307\n",
              " 32    25.            Tamil Nadu   1,30,060  ...         83     0.32     715\n",
              " 33    26.             Telangana   1,12,077  ...        163     0.80   3,615\n",
              " 34    27.               Tripura     10,486  ...          0     0.00      29\n",
              " 35    28.         Uttar Pradesh   2,40,928  ...        127     0.87     587\n",
              " 36    29.           Uttarakhand     53,483  ...          8     0.03     383\n",
              " 37    30.           West Bengal     88,752  ...         55     0.33     146\n",
              " 38    31.         A & N Islands      8,249  ...          1     0.01       1\n",
              " 39    32.            Chandigarh        114  ...       0.47     2.18    0.10\n",
              " 40    33.  Dadra & Nagar Haveli        491  ...          0     0.00       5\n",
              " 41    34.           Daman & Diu        111  ...          0     0.00    0.19\n",
              " 42    35.           Lakshadweep         30  ...          0     0.00    0.00\n",
              " 43    36.            Puducherry        490  ...      -1.26    -2.35    0.00\n",
              " 44  Total                   NaN  32,87,469  ...      3,976     0.56  46,297\n",
              " \n",
              " [45 rows x 10 columns]]"
            ]
          },
          "metadata": {},
          "execution_count": 8
        }
      ]
    },
    {
      "cell_type": "code",
      "metadata": {
        "id": "6-O8S_plc2WI"
      },
      "source": [
        "#Convert the table into csv format\n",
        "from tabula import convert_into"
      ],
      "execution_count": 9,
      "outputs": []
    },
    {
      "cell_type": "code",
      "metadata": {
        "id": "QB2xbUGVdBA_"
      },
      "source": [
        "convert_into(\"http://www.indiaenvironmentportal.org.in/files/file/isfr-fsi-vol1.pdf\", \"Forest_Cover_in_the_States_India.csv\", output_format=\"csv\", pages=\"59\")"
      ],
      "execution_count": 12,
      "outputs": []
    },
    {
      "cell_type": "markdown",
      "metadata": {
        "id": "bX9XfutrsJq2"
      },
      "source": [
        "## Overall Forest Cover of India in 2019"
      ]
    },
    {
      "cell_type": "code",
      "metadata": {
        "id": "2iRAv7VXdETw"
      },
      "source": [
        "df = read_pdf(\"http://www.indiaenvironmentportal.org.in/files/file/isfr-fsi-vol1.pdf\", pages='56')"
      ],
      "execution_count": 25,
      "outputs": []
    },
    {
      "cell_type": "code",
      "metadata": {
        "colab": {
          "base_uri": "https://localhost:8080/"
        },
        "id": "k8QBOXTzrXQ2",
        "outputId": "e005dc3b-8328-4700-ed4c-0dfacebaa253"
      },
      "source": [
        "df"
      ],
      "execution_count": 26,
      "outputs": [
        {
          "output_type": "execute_result",
          "data": {
            "text/plain": [
              "[                Unnamed: 0  Class Area (sq km)  Percentage of Geographical Area\n",
              " 0        Very Dense Forest    NaN       99,278                             3.02\n",
              " 1  Moderately Dense Forest    NaN     3,08,472                             9.39\n",
              " 2              Open Forest    NaN     3,04,499                             9.26\n",
              " 3       Total Forest Cover    NaN     7,12,249                            21.67\n",
              " 4                    Scrub    NaN       46,297                             1.41\n",
              " 5               Non-Forest    NaN    25,28,923                            76.92\n",
              " 6  Total Geographical Area    NaN    32,87,469                           100.00]"
            ]
          },
          "metadata": {},
          "execution_count": 26
        }
      ]
    },
    {
      "cell_type": "code",
      "metadata": {
        "id": "IZ0AE_tNidGI"
      },
      "source": [
        "convert_into(\"http://www.indiaenvironmentportal.org.in/files/file/isfr-fsi-vol1.pdf\", \"Forest_and_Tree_cover_of_India_2019.csv\", output_format=\"csv\", pages=\"56\")"
      ],
      "execution_count": 24,
      "outputs": []
    },
    {
      "cell_type": "code",
      "metadata": {
        "id": "z74NtCoJi2eO"
      },
      "source": [
        ""
      ],
      "execution_count": null,
      "outputs": []
    }
  ]
}